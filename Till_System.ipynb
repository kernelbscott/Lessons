{
  "nbformat": 4,
  "nbformat_minor": 0,
  "metadata": {
    "colab": {
      "provenance": [],
      "authorship_tag": "ABX9TyNogl+KCyEOSslVDgx+TzQf",
      "include_colab_link": true
    },
    "kernelspec": {
      "name": "python3",
      "display_name": "Python 3"
    },
    "language_info": {
      "name": "python"
    }
  },
  "cells": [
    {
      "cell_type": "markdown",
      "metadata": {
        "id": "view-in-github",
        "colab_type": "text"
      },
      "source": [
        "<a href=\"https://colab.research.google.com/github/kernelbscott/Lessons/blob/Till_system/Till_System.ipynb\" target=\"_parent\"><img src=\"https://colab.research.google.com/assets/colab-badge.svg\" alt=\"Open In Colab\"/></a>"
      ]
    },
    {
      "cell_type": "code",
      "execution_count": null,
      "metadata": {
        "id": "w1ZhzJHji5QL",
        "outputId": "7fd72a6c-4d2a-4608-ee61-3cae6943dcce",
        "colab": {
          "base_uri": "https://localhost:8080/"
        }
      },
      "outputs": [
        {
          "output_type": "stream",
          "name": "stdout",
          "text": [
            "Welcome to the Simple Till\n",
            "How many Coffees?\n",
            "3\n",
            "How many Cakes?\n",
            "3\n",
            "----- Receipt -----\n",
            "Total cost is: £17.25\n",
            "A discount of £1.725 has been applied.\n",
            "Your new total is: £15.525\n",
            "--------------------\n",
            "Thank you for your order.\n"
          ]
        }
      ],
      "source": [
        "# Till System\n",
        "\n",
        "item1_name = \"Coffee\"\n",
        "item1_price = 2.50\n",
        "\n",
        "item2_name = \"Cake\"\n",
        "item2_price = 3.25\n",
        "\n",
        "print(\"Welcome to the Simple Till\")\n",
        "\n",
        "# Get quantity for item 1\n",
        "print(\"How many Coffees?\")\n",
        "quantity1 = int(input())\n",
        "\n",
        "# Get quantity for item 2\n",
        "print(\"How many Cakes?\")\n",
        "quantity2 = int(input())\n",
        "\n",
        "# Calculate costs\n",
        "total1 = quantity1 * item1_price\n",
        "total2 = quantity2 * item2_price\n",
        "final_total = total1 + total2\n",
        "\n",
        "print(\"----- Receipt -----\")\n",
        "print(\"Total cost is: £\" + str(final_total))\n",
        "\n",
        "# Check if discount applies\n",
        "if final_total > 10.00:\n",
        "  # apply 10% discount\n",
        "  discount_amount = final_total * 0.10\n",
        "  final_total = final_total - discount_amount\n",
        "  print(\"A discount of £\" + str(discount_amount) + \" has been applied.\")\n",
        "  print(\"Your new total is: £\" + str(final_total))\n",
        "\n",
        "print(\"--------------------\")\n",
        "print(\"Thank you for your order.\")"
      ]
    }
  ]
}