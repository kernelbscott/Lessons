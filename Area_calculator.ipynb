{
  "nbformat": 4,
  "nbformat_minor": 0,
  "metadata": {
    "colab": {
      "provenance": [],
      "authorship_tag": "ABX9TyNlb2WCuTOXoG+ZMWhyXHZL",
      "include_colab_link": true
    },
    "kernelspec": {
      "name": "python3",
      "display_name": "Python 3"
    },
    "language_info": {
      "name": "python"
    }
  },
  "cells": [
    {
      "cell_type": "markdown",
      "metadata": {
        "id": "view-in-github",
        "colab_type": "text"
      },
      "source": [
        "<a href=\"https://colab.research.google.com/github/kernelbscott/Lessons/blob/main/Area_calculator.ipynb\" target=\"_parent\"><img src=\"https://colab.research.google.com/assets/colab-badge.svg\" alt=\"Open In Colab\"/></a>"
      ]
    },
    {
      "cell_type": "code",
      "execution_count": null,
      "metadata": {
        "colab": {
          "base_uri": "https://localhost:8080/"
        },
        "id": "OELwmu-ff5F8",
        "outputId": "b7cb5a76-4aa1-45a0-a20e-008955b6da94"
      },
      "outputs": [
        {
          "output_type": "stream",
          "name": "stdout",
          "text": [
            "\n",
            "--- Main Menu ---\n",
            "1. Calculate area of a Rectangle\n",
            "2. Calculate area of a Circle\n",
            "3. Exit\n",
            "Please enter your choice (1-3): 3\n",
            "Exiting the program. Goodbye!\n"
          ]
        }
      ],
      "source": [
        "# --- Area Calculator Program ---\n",
        "# This program calculates the area of a rectangle or a circle.\n",
        "\n",
        "# A constant value for Pi\n",
        "PI_VALUE = 3.142\n",
        "\n",
        "def calculate_rectangle_area(length, width):\n",
        "  \"\"\"Calculates the area of a rectangle and returns the result.\"\"\"\n",
        "  area = length * width\n",
        "  return area\n",
        "\n",
        "def calculate_circle_area(radius):\n",
        "  \"\"\"Calculates the area of a circle and returns the result.\"\"\"\n",
        "  # Area of a circle is Pi * r^2\n",
        "  area = PI_VALUE * (radius * radius)\n",
        "  return area\n",
        "\n",
        "# Main program loop\n",
        "while True:\n",
        "  # Display the user menu\n",
        "  print(\"\\n--- Main Menu ---\")\n",
        "  print(\"1. Calculate area of a Rectangle\")\n",
        "  print(\"2. Calculate area of a Circle\")\n",
        "  print(\"3. Exit\")\n",
        "\n",
        "  # Get the user's choice\n",
        "  user_choice = input(\"Please enter your choice (1-3): \")\n",
        "\n",
        "  # Process the user's choice using selection\n",
        "  if user_choice == \"1\":\n",
        "    print(\"\\n-- Rectangle Area --\")\n",
        "    rect_length = float(input(\"Enter the length: \"))\n",
        "    rect_width = float(input(\"Enter the width: \"))\n",
        "    # Call the function and store the result in a variable\n",
        "    result = calculate_rectangle_area(rect_length, rect_width)\n",
        "    print(f\"The area of the rectangle is: {result}\")\n",
        "\n",
        "  elif user_choice == \"2\":\n",
        "    print(\"\\n-- Circle Area --\")\n",
        "    circle_radius = float(input(\"Enter the radius: \"))\n",
        "    # Call the function and store the result\n",
        "    result = calculate_circle_area(circle_radius)\n",
        "    print(f\"The area of the circle is: {result}\")\n",
        "\n",
        "  elif user_choice == \"3\":\n",
        "    print(\"Exiting the program. Goodbye!\")\n",
        "    break # Exit the while loop\n",
        "\n",
        "  else:\n",
        "    print(\"Invalid choice, please try again.\")"
      ]
    }
  ]
}